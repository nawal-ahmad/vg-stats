{
 "cells": [
  {
   "cell_type": "markdown",
   "source": [
    "# Cycle Share Data set\n",
    "\n",
    "\n",
    "**Data**: Bicycle Trip Data from Seattle's Cycle Share System\n",
    "[Cycle Share Data set](https://www.kaggle.com/pronto/cycle-share-dataset)\n",
    "\n",
    "**Author**: Nawal Ahmad\n",
    "\n",
    "**Date**: 10/Aug/2021\n"
   ],
   "metadata": {}
  },
  {
   "cell_type": "code",
   "execution_count": 8,
   "source": [
    "import pandas as pd"
   ],
   "outputs": [],
   "metadata": {}
  },
  {
   "cell_type": "code",
   "execution_count": 20,
   "source": [
    "df = pd.read_csv('./weather.csv')\n",
    "df = pd.read_csv('./station.csv')\n",
    "df = pd.read_csv('./trip.csv', error_bad_lines=False)\n",
    "df.head()"
   ],
   "outputs": [
    {
     "output_type": "stream",
     "name": "stderr",
     "text": [
      "/home/nawal/ASAC/401/vg-stats/.venv/lib/python3.9/site-packages/IPython/core/interactiveshell.py:3441: FutureWarning: The error_bad_lines argument has been deprecated and will be removed in a future version.\n",
      "\n",
      "\n",
      "  exec(code_obj, self.user_global_ns, self.user_ns)\n",
      "b'Skipping line 50794: expected 12 fields, saw 20\\n'\n"
     ]
    },
    {
     "output_type": "stream",
     "name": "stdout",
     "text": [
      "<class 'pandas.core.frame.DataFrame'>\n",
      "RangeIndex: 286857 entries, 0 to 286856\n",
      "Data columns (total 12 columns):\n",
      " #   Column             Non-Null Count   Dtype  \n",
      "---  ------             --------------   -----  \n",
      " 0   trip_id            286857 non-null  int64  \n",
      " 1   starttime          286857 non-null  object \n",
      " 2   stoptime           286857 non-null  object \n",
      " 3   bikeid             286857 non-null  object \n",
      " 4   tripduration       286857 non-null  float64\n",
      " 5   from_station_name  286857 non-null  object \n",
      " 6   to_station_name    286857 non-null  object \n",
      " 7   from_station_id    286857 non-null  object \n",
      " 8   to_station_id      286857 non-null  object \n",
      " 9   usertype           286857 non-null  object \n",
      " 10  gender             181557 non-null  object \n",
      " 11  birthyear          181553 non-null  float64\n",
      "dtypes: float64(2), int64(1), object(9)\n",
      "memory usage: 26.3+ MB\n"
     ]
    }
   ],
   "metadata": {}
  }
 ],
 "metadata": {
  "orig_nbformat": 4,
  "language_info": {
   "name": "python",
   "version": "3.9.6",
   "mimetype": "text/x-python",
   "codemirror_mode": {
    "name": "ipython",
    "version": 3
   },
   "pygments_lexer": "ipython3",
   "nbconvert_exporter": "python",
   "file_extension": ".py"
  },
  "kernelspec": {
   "name": "python3",
   "display_name": "Python 3.9.6 64-bit ('.venv': poetry)"
  },
  "interpreter": {
   "hash": "3571e44ddaa0c0e4c0737c7c2e53656bf5c5a641b0a04167ddab86143dcdef64"
  }
 },
 "nbformat": 4,
 "nbformat_minor": 2
}